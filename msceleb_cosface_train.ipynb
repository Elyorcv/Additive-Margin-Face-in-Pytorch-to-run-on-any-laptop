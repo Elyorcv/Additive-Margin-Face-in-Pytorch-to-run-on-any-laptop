{
 "cells": [
  {
   "cell_type": "code",
   "execution_count": null,
   "metadata": {},
   "outputs": [],
   "source": [
    "import os\n",
    "import sys\n",
    "from pathlib import Path\n",
    "from tqdm import tqdm\n",
    "from easydict import EasyDict\n",
    "import pdb\n",
    "from dataset.LFWDataset import LFWDataset\n",
    "from dataset.TripletFaceDataset import TripletFaceDataset\n",
    "from dataset.TripDataset import TripDataset\n",
    "from datetime import datetime\n",
    "import torch\n",
    "from torch import optim\n",
    "from torchvision import transforms as trans\n",
    "from torchvision.datasets import ImageFolder\n",
    "from torch.utils.data import DataLoader\n",
    "from tensorboardX import SummaryWriter\n",
    "from utils import de_preprocess\n",
    "from model.MTCNN import MTCNN\n",
    "from model.Cosface import Cosface"
   ]
  },
  {
   "cell_type": "code",
   "execution_count": null,
   "metadata": {},
   "outputs": [],
   "source": [
    "conf = EasyDict()\n",
    "conf.use_cuda = torch.cuda.is_available()\n",
    "conf.pin_mem = conf.use_cuda\n",
    "conf.input_size = (128,92)\n",
    "conf.batch_size = 128\n",
    "conf.num_classes = 51332\n",
    "conf.train_path = Path('/home/f/msceleb_train_cropped')\n",
    "conf.val_path = Path('/home/f/nvme/msceleb_val_cropped')\n",
    "conf.test_path = Path('/home/f/nvme/msceleb_test_cropped')\n",
    "conf.lfw_path = '/home/f/learning/Dataset/LFW/lfw-deepfunneled'\n",
    "conf.lfw_pairs_path = '/home/f/learning/Face/facenet_pytorch-master/lfw_pairs.txt'\n",
    "conf.model_path = Path('/home/f/learning/Face/model_dict')\n",
    "conf.log_path = Path('/home/f/learning/Face/log')\n",
    "conf.lfw_path = '/home/f/nvme/lfw-deepfunneled'\n",
    "conf.embedding_size = 512\n",
    "conf.board_loss_every = 500\n",
    "conf.eva_every = 5000\n",
    "conf.save_every = 30000\n",
    "conf.board_loss_every = 5\n",
    "conf.eva_every = 5\n",
    "conf.save_every = 5\n",
    "conf.transforms_aug = trans.Compose([\n",
    "    trans.Resize(conf.input_size),\n",
    "    trans.RandomGrayscale(),\n",
    "    trans.ColorJitter(0.2,0.2,hue=0.1),\n",
    "    trans.RandomHorizontalFlip(),\n",
    "    trans.ToTensor(),\n",
    "    trans.Normalize((0.5,0.5,0.5),(0.5,0.5,0.5))])\n",
    "conf.transforms = trans.Compose([\n",
    "    trans.Resize(conf.input_size),\n",
    "    trans.ToTensor(),\n",
    "    trans.Normalize((0.5,0.5,0.5),(0.5,0.5,0.5))])\n",
    "mtcnn = MTCNN()\n",
    "conf.lfw_transforms = trans.Compose([\n",
    "    trans.Lambda(lambda x : mtcnn.detect_faces(x)),\n",
    "    trans.Resize(conf.input_size),\n",
    "    trans.ToTensor(),\n",
    "    trans.Normalize((0.5,0.5,0.5),(0.5,0.5,0.5))])"
   ]
  },
  {
   "cell_type": "code",
   "execution_count": null,
   "metadata": {},
   "outputs": [],
   "source": [
    "train_dataset = ImageFolder(conf.train_path,conf.transforms_aug)\n",
    "conf.num_classes = len(train_dataset.classes)\n",
    "train_loader = DataLoader(train_dataset,conf.batch_size,\n",
    "                          shuffle=True,pin_memory=conf.pin_mem,drop_last=True,num_workers=1)"
   ]
  },
  {
   "cell_type": "code",
   "execution_count": null,
   "metadata": {},
   "outputs": [],
   "source": [
    "val_trip_dataset = TripDataset(conf.val_path,conf.transforms)\n",
    "val_trip_loader = DataLoader(val_trip_dataset,conf.batch_size//2,\n",
    "                          shuffle=True,pin_memory=conf.pin_mem,drop_last=True,num_workers=1)"
   ]
  },
  {
   "cell_type": "code",
   "execution_count": null,
   "metadata": {},
   "outputs": [],
   "source": [
    "test_trip_dataset = TripDataset(conf.test_path,conf.transforms)\n",
    "test_trip_loader = DataLoader(test_trip_dataset,conf.batch_size//2,\n",
    "                          shuffle=True,pin_memory=conf.pin_mem,drop_last=True,num_workers=1)"
   ]
  },
  {
   "cell_type": "code",
   "execution_count": null,
   "metadata": {},
   "outputs": [],
   "source": [
    "val_loss_dataset = ImageFolder(conf.val_path,conf.transforms)\n",
    "val_loss_loader = DataLoader(val_loss_dataset,conf.batch_size//2,\n",
    "                             shuffle=True,pin_memory=conf.pin_mem,drop_last=True,num_workers=1)"
   ]
  },
  {
   "cell_type": "code",
   "execution_count": null,
   "metadata": {},
   "outputs": [],
   "source": [
    "test_loss_dataset = ImageFolder(conf.test_path,conf.transforms)\n",
    "test_loss_loader = DataLoader(test_loss_dataset,conf.batch_size//2,\n",
    "                              shuffle=True,pin_memory=conf.pin_mem,drop_last=True,num_workers=1)"
   ]
  },
  {
   "cell_type": "code",
   "execution_count": null,
   "metadata": {
    "scrolled": true
   },
   "outputs": [],
   "source": [
    "lfw_dataset = TripletFaceDataset(dir=conf.lfw_path,n_triplets=1000000,transform=conf.lfw_transforms)\n",
    "lfw_loader = DataLoader(lfw_dataset,\n",
    "                        batch_size=128, \n",
    "                        shuffle=True,\n",
    "                        num_workers=1,\n",
    "                        pin_memory=conf.pin_mem)"
   ]
  },
  {
   "cell_type": "code",
   "execution_count": null,
   "metadata": {},
   "outputs": [],
   "source": [
    "torch.save(face_model.state_dict(),conf.model_path/'cosface_best_cpu.pth')"
   ]
  },
  {
   "cell_type": "code",
   "execution_count": null,
   "metadata": {},
   "outputs": [],
   "source": [
    "optimizer_adam = optim.Adam(face_model.parameters(),lr=0.0001)"
   ]
  },
  {
   "cell_type": "code",
   "execution_count": null,
   "metadata": {},
   "outputs": [],
   "source": [
    "writer = SummaryWriter(conf.log_path/str(datetime.now())[:-10])"
   ]
  },
  {
   "cell_type": "code",
   "execution_count": null,
   "metadata": {},
   "outputs": [],
   "source": [
    "# face_model.load_state(conf.model_path/'model_step591173_2018-04-16 22:51_adam_13_epochs.pth')"
   ]
  },
  {
   "cell_type": "code",
   "execution_count": null,
   "metadata": {},
   "outputs": [],
   "source": [
    "face_model = Cosface(conf)"
   ]
  },
  {
   "cell_type": "code",
   "execution_count": null,
   "metadata": {
    "scrolled": false
   },
   "outputs": [],
   "source": [
    "face_model.fit(train_loader,val_trip_loader,val_loss_loader,lfw_loader,optimizer_adam,writer,epochs=15,log='adam')"
   ]
  },
  {
   "cell_type": "code",
   "execution_count": null,
   "metadata": {},
   "outputs": [],
   "source": [
    "face_model.load_state(conf.model_path/'model_step210000_2018-04-19 06:52_adam_best.pth')"
   ]
  },
  {
   "cell_type": "code",
   "execution_count": null,
   "metadata": {},
   "outputs": [],
   "source": [
    "face_model.cpu()"
   ]
  },
  {
   "cell_type": "code",
   "execution_count": null,
   "metadata": {},
   "outputs": [],
   "source": [
    "face_model.save_state(conf.model_path/'face_model_best_cpu.pth')"
   ]
  }
 ],
 "metadata": {
  "kernelspec": {
   "display_name": "Python 3",
   "language": "python",
   "name": "python3"
  },
  "language_info": {
   "codemirror_mode": {
    "name": "ipython",
    "version": 3
   },
   "file_extension": ".py",
   "mimetype": "text/x-python",
   "name": "python",
   "nbconvert_exporter": "python",
   "pygments_lexer": "ipython3",
   "version": "3.6.4"
  }
 },
 "nbformat": 4,
 "nbformat_minor": 2
}
